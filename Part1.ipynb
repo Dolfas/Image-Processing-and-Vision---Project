{
 "cells": [
  {
   "cell_type": "markdown",
   "metadata": {},
   "source": [
    "The **Part 1** of the project is divided into three sections:\n",
    "\n",
    "1- Feature Extraction (Using SIFT)\n",
    "\n",
    "2- Outlier Removal (Using RANSAC)\n",
    "\n",
    "3- Computing the Homographies (Using DLT)\n",
    "\n",
    "\n",
    "**pip install opencv-python**\n",
    "\n",
    "**pip install opencv-contrib-python**"
   ]
  },
  {
   "cell_type": "markdown",
   "metadata": {},
   "source": [
    "**Section 1**"
   ]
  },
  {
   "cell_type": "code",
   "execution_count": 1,
   "metadata": {},
   "outputs": [],
   "source": [
    "#Imports\n",
    "import numpy as np\n",
    "import cv2\n",
    "import os"
   ]
  },
  {
   "cell_type": "code",
   "execution_count": 2,
   "metadata": {},
   "outputs": [],
   "source": [
    "#Display the video\n",
    "capture = cv2.VideoCapture(os.path.abspath('trymefirst_lisbon.mp4'))\n",
    "while(capture.isOpened()):\n",
    "    ret, frame = capture.read()\n",
    "    cv2.imshow('frame',frame)\n",
    "    if cv2.waitKey(1) & 0xFF == ord('q'):  ##press q if you want the video to stop \n",
    "        break\n",
    "capture.release()\n",
    "cv2.destroyAllWindows()"
   ]
  },
  {
   "cell_type": "code",
   "execution_count": null,
   "metadata": {},
   "outputs": [],
   "source": [
    "capture = cv2.VideoCapture(os.path.abspath('trymefirst_lisbon.mp4'))\n",
    "\n",
    "sift_points = [] #nome a definir no config\n",
    "t = 0 \n",
    "sift = cv2.SIFT_create(100) #number of sift points\n",
    "while True:\n",
    "    t = t + 1\n",
    "    if t == 5: break \n",
    "    success, frame = capture.read()\n",
    "    if success:\n",
    "        frame_points = []\n",
    "        gray = cv2.cvtColor(frame,cv2.COLOR_BGR2GRAY)\n",
    "        kp, des = sift.detectAndCompute(gray,None)\n",
    "        frame_points = ([kp[0].pt[0],kp[0].pt[1]]+des[0].tolist())\n",
    "        for i in range(1,len(kp)):\n",
    "             list = ([kp[i].pt[0],kp[i].pt[1]]+des[i].tolist())\n",
    "             frame_points = np.column_stack((frame_points,list))  \n",
    "    sift_points.append(frame_points) #append everything into a list "
   ]
  },
  {
   "cell_type": "code",
   "execution_count": 115,
   "metadata": {},
   "outputs": [
    {
     "name": "stdout",
     "output_type": "stream",
     "text": [
      "[  5.67994452 177.10325623  42.47234726  42.47234726 268.80291748\n",
      " 177.10325623 177.10325623 592.91009521 406.83502197 346.60913086\n",
      " 329.41320801 329.41320801 165.71827698  62.68400955 406.83502197\n",
      "  39.95887375 306.94552612 217.01228333  61.66337967 306.94552612\n",
      " 117.35230255 331.00610352 425.39553833 751.51934814  61.66337967\n",
      " 600.52026367 425.39553833  48.0570755  117.35230255  62.68400955\n",
      " 130.28042603 751.51934814  37.95763779 515.91253662 515.91253662\n",
      " 751.51934814 363.3117981   37.95763779 515.91253662  51.12105942\n",
      " 340.10839844 169.31726074 321.1583252  520.44488525 207.70555115\n",
      " 340.10839844 207.70555115 268.80291748 321.1583252  169.31726074\n",
      " 346.60913086  20.52986145  71.78164673 645.96630859  70.93877411\n",
      " 645.96630859  70.93877411 645.96630859 425.58969116 425.58969116\n",
      "  44.46161652 149.44848633 211.03762817  88.5995636  211.03762817\n",
      " 204.95632935  44.46161652 583.16009521 313.05712891 209.08547974\n",
      " 204.95632935 313.05712891 204.95632935  64.32099152 209.08547974\n",
      " 207.66563416 207.66563416  68.62010193  10.21418953 209.72331238\n",
      " 209.72331238 382.24124146 167.49603271 167.49603271 199.34817505\n",
      " 412.46765137 458.2244873  367.09307861  85.54571533  85.54571533\n",
      " 266.86962891 267.73214722  74.58660889  74.58660889 564.41705322\n",
      "  98.65187073  98.65187073  65.21906281  65.21906281 139.5690155\n",
      " 139.5690155 ]\n"
     ]
    }
   ],
   "source": [
    "print((sift_points[0])[0,:])"
   ]
  },
  {
   "cell_type": "code",
   "execution_count": null,
   "metadata": {},
   "outputs": [],
   "source": [
    "print((sift_points[0])[0,:])"
   ]
  }
 ],
 "metadata": {
  "kernelspec": {
   "display_name": "Python 3",
   "language": "python",
   "name": "python3"
  },
  "language_info": {
   "codemirror_mode": {
    "name": "ipython",
    "version": 3
   },
   "file_extension": ".py",
   "mimetype": "text/x-python",
   "name": "python",
   "nbconvert_exporter": "python",
   "pygments_lexer": "ipython3",
   "version": "3.9.7"
  }
 },
 "nbformat": 4,
 "nbformat_minor": 2
}
