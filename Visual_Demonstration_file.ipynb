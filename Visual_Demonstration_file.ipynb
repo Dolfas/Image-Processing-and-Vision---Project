{
 "cells": [
  {
   "cell_type": "code",
   "execution_count": 1,
   "metadata": {},
   "outputs": [],
   "source": [
    "from numpy.linalg import eig\n",
    "import numpy as np\n",
    "import cv2\n",
    "import os\n",
    "import sys\n",
    "import pickle"
   ]
  },
  {
   "cell_type": "code",
   "execution_count": 2,
   "metadata": {},
   "outputs": [],
   "source": [
    "configuration_file = 'config/part_1.cfg'"
   ]
  },
  {
   "cell_type": "code",
   "execution_count": null,
   "metadata": {},
   "outputs": [],
   "source": [
    "**Main: process_video.py**"
   ]
  },
  {
   "cell_type": "code",
   "execution_count": null,
   "metadata": {},
   "outputs": [],
   "source": [
    "from process_video import*\n",
    "from src.extract_features import *\n",
    "from src.matching_features import *\n",
    "from src.homography import *\n",
    "from src.ransac import *\n",
    "from src.parsing import *\n",
    "from src.display_video import *\n",
    "from src.view_homography import *\n",
    "from src.outputs import *\n",
    "from src.optimized_corners import *\n",
    "\n",
    "config_data = parse_configuration_file(configuration_file) #Parse the configuration file\n",
    "match_img1 , match_map = parse_points(config_data) #Parse the points from the configuration file\n",
    "video_path, type_homography, file_name_keypoints, file_name_tranformations = final_parsing(config_data)\n",
    "\n",
    "sift_points, nr_points = extract_features(video_path)\n",
    "\n",
    "create_output_keypoints(sift_points, file_name_keypoints, nr_points)\n",
    "    "
   ]
  },
  {
   "cell_type": "markdown",
   "metadata": {},
   "source": [
    "**Main: compute_transforms.py**"
   ]
  },
  {
   "cell_type": "code",
   "execution_count": 3,
   "metadata": {},
   "outputs": [
    {
     "name": "stdout",
     "output_type": "stream",
     "text": [
      "image matches:  [('225', '131'), ('580', '120'), ('626', '305'), ('133', '303')]\n",
      "map matches:  [('225', '131'), ('580', '120'), ('626', '305'), ('133', '303')] \n",
      "\n",
      "width, height 804 454\n"
     ]
    }
   ],
   "source": [
    "from src.extract_features import *\n",
    "from src.parsing import *\n",
    "from src.display_video import *\n",
    "from process_video import *\n",
    "from compute_transform import*\n",
    "\n",
    "config_data = parse_configuration_file(configuration_file) #Parse the configuration file\n",
    "match_img1 , match_map = parse_points(config_data) #Parse the points from the configuration file\n",
    "video_path, type_homography, file_name_keypoints, file_name_tranformations, \\\n",
    "    width, height = final_parsing_compute_transform(config_data)\n",
    "\n",
    "H_frame1_to_map =compute_homography(match_img1, match_map)    \n",
    "sift_points, nr_points = extract_keypoints(file_name_keypoints)\n",
    "print(\"width, height\", width, height)\n",
    "match = matching_features_SCIKITLEARN(sift_points)\n",
    "H_sequential = create_sequential_homographies(match, sift_points)\n",
    "\n"
   ]
  },
  {
   "cell_type": "code",
   "execution_count": 8,
   "metadata": {},
   "outputs": [
    {
     "name": "stdout",
     "output_type": "stream",
     "text": [
      "Entered cycle, indexes: 2 0\n",
      "Entered cycle, indexes: 3 0\n",
      "Entered cycle, indexes: 4 0\n",
      "Entered cycle, indexes: 5 0\n",
      "Entered cycle, indexes: 6 0\n",
      "Entered cycle, indexes: 7 0\n",
      "Entered cycle, indexes: 8 0\n",
      "Entered cycle, indexes: 9 0\n",
      "Entered cycle, indexes: 10 0\n",
      "Entered cycle, indexes: 11 0\n",
      "Entered cycle, indexes: 12 0\n",
      "Entered cycle, indexes: 13 0\n",
      "Entered cycle, indexes: 14 0\n",
      "Entered cycle, indexes: 15 0\n",
      "Entered cycle, indexes: 16 0\n",
      "Entered cycle, indexes: 17 0\n",
      "Entered cycle, indexes: 18 0\n",
      "Entered cycle, indexes: 19 0\n"
     ]
    }
   ],
   "source": [
    "H_all = all_homographies(H_sequential,height, width, sift_points)\n",
    "H_tomap,Htoframe1 = homography_to_map(H_sequential, H_frame1_to_map,height, width, sift_points)\n"
   ]
  },
  {
   "cell_type": "markdown",
   "metadata": {},
   "source": [
    "Output of process_video.py:"
   ]
  },
  {
   "cell_type": "code",
   "execution_count": 6,
   "metadata": {
    "jupyter": {
     "source_hidden": true
    },
    "tags": []
   },
   "outputs": [],
   "source": [
    "from scipy.io import loadmat\n",
    "\n",
    "def extract_keypoints(file_path):\n",
    "    data = loadmat(file_path)\n",
    "    keypoint_data = data['Keypoints']\n",
    "    kp_list = []\n",
    "    nr_points = None\n",
    "\n",
    "    for item in keypoint_data:\n",
    "        points = item.reshape((item.shape[1],item.shape[0])) # Transpose to revert the reshape operation\n",
    "        kp_list.append(points)\n",
    "        # Store the number of points (assuming all arrays have the same size)\n",
    "        nr_points = points.shape[1] if nr_points is None else nr_points\n",
    "    return kp_list, nr_points\n",
    "\n",
    "sift_points_extracted, nr_points_extracted = extract_keypoints(file_name_keypoints)\n"
   ]
  },
  {
   "cell_type": "markdown",
   "metadata": {},
   "source": [
    "Output of compute_transform.py:"
   ]
  },
  {
   "cell_type": "code",
   "execution_count": 8,
   "metadata": {},
   "outputs": [],
   "source": [
    "from src.outputs import create_output\n",
    "i = create_output(H_output, file_name_tranformations)        \n",
    "\n"
   ]
  },
  {
   "cell_type": "markdown",
   "metadata": {},
   "source": [
    "**Display results:**"
   ]
  },
  {
   "cell_type": "code",
   "execution_count": 5,
   "metadata": {},
   "outputs": [],
   "source": [
    "def show_pixel_coordinates(event, x, y, flags, param):\n",
    "    if event == cv2.EVENT_LBUTTONDOWN:\n",
    "        print(f\"Clicked at (x={x}, y={y})\")\n",
    "\n",
    "def display_frame(name,frame):\n",
    "    cv2.namedWindow(name)\n",
    "    cv2.setMouseCallback(name, show_pixel_coordinates)\n",
    "    cv2.imshow(name, frame)\n",
    "\n",
    "def display(frame1, frame2,homography_de2_para1 , idx1, idx2 ):\n",
    "    H= homography_de2_para1.reshape((3,3))\n",
    "    \n",
    "    height, width = frame2.shape[:2]\n",
    "    # Apply homography to frame 2\n",
    "    warped_frame2 = cv2.warpPerspective(frame2, H, (width, height))\n",
    "\n",
    "    while True:\n",
    "        display_frame(f'Frame {idx1}', frame1)\n",
    "\n",
    "        display_frame(f'Frame{ idx2} transformed with homography to coordinates of frame {idx1}', warped_frame2)\n",
    "\n",
    "        display_frame(f\"Frame {idx2}\", frame2)\n",
    "\n",
    "        if cv2.waitKey(1) & 0xFF == ord('q'):\n",
    "            break\n",
    "        elif cv2.waitKey(1) & 0xFF == ord('e'):\n",
    "            return True\n",
    "    cv2.destroyAllWindows()\n",
    "    return False\n",
    "\n",
    "def extract__frames(video_path):\n",
    "    \"\"\"Extracts the features from the video and stores them in a list\"\"\"\n",
    "    print(video_path)\n",
    "    capture = cv2.VideoCapture(os.path.abspath(video_path))\n",
    "    k = 0\n",
    "    frames=[]\n",
    "    count_frames(video_path)\n",
    "    while k <= 1900:\n",
    "        capture.set(cv2.CAP_PROP_POS_FRAMES, k)\n",
    "        success, frame = capture.read() #read the video\n",
    "        if success:\n",
    "            frames.append(frame)\n",
    "        k += 100\n",
    "    return frames"
   ]
  },
  {
   "cell_type": "code",
   "execution_count": 6,
   "metadata": {},
   "outputs": [
    {
     "name": "stdout",
     "output_type": "stream",
     "text": [
      "video/trymefirst_lisbon.mp4\n",
      "Total frames of the video:  1901\n"
     ]
    }
   ],
   "source": [
    "\n",
    "frames= extract__frames('video/trymefirst_lisbon.mp4')"
   ]
  },
  {
   "cell_type": "code",
   "execution_count": 9,
   "metadata": {},
   "outputs": [
    {
     "name": "stdout",
     "output_type": "stream",
     "text": [
      "Press q to change image\n",
      "Press e to exit\n",
      "Clicked at (x=383, y=210)\n",
      "Clicked at (x=394, y=222)\n",
      "Clicked at (x=467, y=181)\n",
      "Clicked at (x=463, y=129)\n",
      "Clicked at (x=474, y=125)\n",
      "Clicked at (x=634, y=145)\n",
      "Clicked at (x=146, y=223)\n",
      "Clicked at (x=263, y=200)\n",
      "Clicked at (x=223, y=143)\n",
      "Clicked at (x=196, y=174)\n",
      "Clicked at (x=305, y=152)\n",
      "Clicked at (x=225, y=191)\n",
      "Clicked at (x=240, y=156)\n",
      "Clicked at (x=254, y=160)\n",
      "Clicked at (x=283, y=178)\n",
      "Clicked at (x=552, y=90)\n",
      "Clicked at (x=273, y=113)\n",
      "Clicked at (x=331, y=138)\n",
      "Clicked at (x=190, y=314)\n",
      "Clicked at (x=542, y=174)\n",
      "Clicked at (x=172, y=173)\n",
      "Clicked at (x=521, y=98)\n",
      "Clicked at (x=275, y=215)\n",
      "Clicked at (x=467, y=110)\n",
      "Clicked at (x=190, y=152)\n",
      "Clicked at (x=372, y=301)\n",
      "Clicked at (x=345, y=126)\n",
      "Clicked at (x=473, y=148)\n"
     ]
    }
   ],
   "source": [
    "#to test homography to map function (to frame 0 and not to map)\n",
    "img1=frames[0]\n",
    "idx1 = 0\n",
    "print('Press q to change image\\nPress e to exit')\n",
    "\n",
    "for i in range(1,len(frames)-1):\n",
    "    idx2 = i \n",
    "    img2= frames[i]\n",
    "    exit_bool = display(img1, img2, Htoframe1[2:,i], idx1, idx2 )\n",
    "    if exit_bool:\n",
    "        cv2.destroyAllWindows()\n",
    "        break"
   ]
  },
  {
   "cell_type": "code",
   "execution_count": 7,
   "metadata": {},
   "outputs": [
    {
     "name": "stdout",
     "output_type": "stream",
     "text": [
      "Press q to change image\n",
      "Press e to exit\n",
      "Clicked at (x=520, y=270)\n",
      "Clicked at (x=655, y=224)\n",
      "Clicked at (x=609, y=222)\n",
      "Clicked at (x=376, y=162)\n",
      "Clicked at (x=162, y=146)\n",
      "Clicked at (x=373, y=111)\n",
      "Clicked at (x=349, y=128)\n",
      "Clicked at (x=377, y=116)\n",
      "Clicked at (x=392, y=142)\n",
      "Clicked at (x=397, y=129)\n",
      "Clicked at (x=368, y=222)\n",
      "Clicked at (x=513, y=320)\n",
      "Clicked at (x=409, y=216)\n",
      "Clicked at (x=421, y=103)\n",
      "Clicked at (x=371, y=129)\n",
      "Clicked at (x=535, y=236)\n",
      "Clicked at (x=436, y=123)\n",
      "Clicked at (x=386, y=175)\n",
      "Clicked at (x=362, y=74)\n",
      "Clicked at (x=443, y=83)\n",
      "Clicked at (x=403, y=206)\n",
      "Clicked at (x=362, y=160)\n",
      "Clicked at (x=436, y=128)\n",
      "Clicked at (x=377, y=146)\n",
      "Clicked at (x=554, y=102)\n",
      "Clicked at (x=638, y=161)\n",
      "Clicked at (x=447, y=105)\n",
      "Clicked at (x=403, y=82)\n",
      "Clicked at (x=184, y=96)\n",
      "Clicked at (x=180, y=166)\n",
      "Clicked at (x=212, y=107)\n",
      "Clicked at (x=401, y=166)\n",
      "Clicked at (x=310, y=149)\n",
      "Clicked at (x=261, y=132)\n",
      "Clicked at (x=617, y=190)\n",
      "Clicked at (x=366, y=329)\n",
      "Clicked at (x=340, y=303)\n",
      "Clicked at (x=455, y=359)\n",
      "Clicked at (x=400, y=291)\n",
      "Clicked at (x=291, y=155)\n",
      "Clicked at (x=432, y=222)\n",
      "Clicked at (x=432, y=222)\n",
      "Clicked at (x=233, y=259)\n",
      "Clicked at (x=459, y=181)\n",
      "Clicked at (x=433, y=155)\n",
      "Clicked at (x=354, y=183)\n",
      "Clicked at (x=395, y=111)\n",
      "Clicked at (x=708, y=65)\n",
      "Clicked at (x=662, y=115)\n",
      "Clicked at (x=647, y=149)\n",
      "Clicked at (x=347, y=196)\n",
      "Clicked at (x=363, y=267)\n"
     ]
    }
   ],
   "source": [
    "#to test homography to each other\n",
    "print('Press q to change image\\nPress e to exit')\n",
    "#H_output = all_homographies(H_sequential)\n",
    "\n",
    "for i in range(H_all.shape[1]):\n",
    "    idx1= int(H_all[0,i])\n",
    "    idx2= int(H_all[1,i])\n",
    "\n",
    "    img1 = frames[ idx1-1 ] \n",
    "    img2= frames[  idx2-1]\n",
    "    exit_bool = display(img1, img2, H_all[2:,i], idx1, idx2 )\n",
    "    if exit_bool:\n",
    "        cv2.destroyAllWindows()\n",
    "        break"
   ]
  },
  {
   "cell_type": "code",
   "execution_count": null,
   "metadata": {},
   "outputs": [],
   "source": []
  }
 ],
 "metadata": {
  "kernelspec": {
   "display_name": "Python 3",
   "language": "python",
   "name": "python3"
  },
  "language_info": {
   "codemirror_mode": {
    "name": "ipython",
    "version": 3
   },
   "file_extension": ".py",
   "mimetype": "text/x-python",
   "name": "python",
   "nbconvert_exporter": "python",
   "pygments_lexer": "ipython3",
   "version": "3.9.12"
  }
 },
 "nbformat": 4,
 "nbformat_minor": 4
}
