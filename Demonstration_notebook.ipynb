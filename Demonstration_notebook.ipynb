{
 "cells": [
  {
   "cell_type": "code",
   "execution_count": 1,
   "metadata": {},
   "outputs": [],
   "source": [
    "from numpy.linalg import eig\n",
    "import numpy as np\n",
    "import cv2\n",
    "import os\n",
    "import sys\n",
    "import pickle"
   ]
  },
  {
   "cell_type": "code",
   "execution_count": 2,
   "metadata": {},
   "outputs": [],
   "source": [
    "configuration_file = 'config/part_1.cfg'"
   ]
  },
  {
   "cell_type": "markdown",
   "metadata": {},
   "source": [
    "**Main: process_video.py**"
   ]
  },
  {
   "cell_type": "code",
   "execution_count": 3,
   "metadata": {},
   "outputs": [
    {
     "name": "stdout",
     "output_type": "stream",
     "text": [
      "image matches:  [('225', '131'), ('580', '120'), ('626', '305'), ('133', '303')]\n",
      "map matches:  [('225', '131'), ('580', '120'), ('626', '305'), ('133', '303')] \n",
      "\n",
      "width, height 804 454\n"
     ]
    }
   ],
   "source": [
    "from src.extract_features import *\n",
    "from src.parsing import *\n",
    "from src.display_video import *\n",
    "from process_video import *\n",
    "from compute_transform import*\n",
    "\n",
    "config_data = parse_configuration_file(configuration_file) #Parse the configuration file\n",
    "match_img1 , match_map = parse_points(config_data) #Parse the points from the configuration file\n",
    "video_path, type_homography, file_name_keypoints, file_name_tranformations, \\\n",
    "    width, height = final_parsing_compute_transform(config_data)\n",
    "\n",
    "H_frame1_to_map =compute_homography(match_img1, match_map)    \n",
    "sift_points, nr_points = extract_keypoints(file_name_keypoints)\n",
    "print(\"width, height\", width, height)\n",
    "match = matching_features_SCIKITLEARN(sift_points)\n",
    "H_sequential = create_sequential_homographies(match, sift_points)\n",
    "\n"
   ]
  },
  {
   "cell_type": "code",
   "execution_count": 4,
   "metadata": {},
   "outputs": [],
   "source": [
    "#H_all = homography_to_map(H_sequential,height, width, sift_points)\n",
    "H_tomap,Htoframe1 = homography_to_map(H_sequential, H_frame1_to_map,height, width, sift_points)\n"
   ]
  },
  {
   "cell_type": "markdown",
   "metadata": {},
   "source": [
    "Output of process_video.py:"
   ]
  },
  {
   "cell_type": "code",
   "execution_count": 5,
   "metadata": {},
   "outputs": [],
   "source": [
    "from src.outputs import *\n",
    "create_output_keypoints(sift_points, file_name_keypoints, nr_points) #teste\n"
   ]
  },
  {
   "cell_type": "code",
   "execution_count": 6,
   "metadata": {},
   "outputs": [],
   "source": [
    "from scipy.io import loadmat\n",
    "\n",
    "def extract_keypoints(file_path):\n",
    "    data = loadmat(file_path)\n",
    "    keypoint_data = data['Keypoints']\n",
    "    kp_list = []\n",
    "    nr_points = None\n",
    "\n",
    "    for item in keypoint_data:\n",
    "        points = item.reshape((item.shape[1],item.shape[0])) # Transpose to revert the reshape operation\n",
    "        kp_list.append(points)\n",
    "        # Store the number of points (assuming all arrays have the same size)\n",
    "        nr_points = points.shape[1] if nr_points is None else nr_points\n",
    "    return kp_list, nr_points\n",
    "\n",
    "sift_points_extracted, nr_points_extracted = extract_keypoints(file_name_keypoints)\n"
   ]
  },
  {
   "cell_type": "markdown",
   "metadata": {},
   "source": [
    "**Main: compute_transform.py**"
   ]
  },
  {
   "cell_type": "code",
   "execution_count": 7,
   "metadata": {},
   "outputs": [
    {
     "name": "stdout",
     "output_type": "stream",
     "text": [
      "index_frame_i, index_frame_j 2 1\n",
      "index_frame_i, index_frame_j 3 1\n",
      "index_frame_i, index_frame_j 4 1\n",
      "index_frame_i, index_frame_j 5 1\n",
      "index_frame_i, index_frame_j 6 1\n",
      "index_frame_i, index_frame_j 7 1\n",
      "index_frame_i, index_frame_j 8 1\n",
      "index_frame_i, index_frame_j 9 1\n",
      "index_frame_i, index_frame_j 10 1\n",
      "index_frame_i, index_frame_j 11 1\n",
      "index_frame_i, index_frame_j 12 1\n",
      "index_frame_i, index_frame_j 13 1\n",
      "index_frame_i, index_frame_j 14 1\n",
      "index_frame_i, index_frame_j 15 1\n",
      "index_frame_i, index_frame_j 16 1\n",
      "index_frame_i, index_frame_j 17 1\n",
      "index_frame_i, index_frame_j 18 1\n",
      "index_frame_i, index_frame_j 19 1\n",
      "index_frame_i, index_frame_j 3 2\n",
      "index_frame_i, index_frame_j 4 2\n",
      "index_frame_i, index_frame_j 5 2\n",
      "index_frame_i, index_frame_j 6 2\n",
      "index_frame_i, index_frame_j 7 2\n",
      "index_frame_i, index_frame_j 8 2\n",
      "index_frame_i, index_frame_j 9 2\n",
      "index_frame_i, index_frame_j 10 2\n",
      "index_frame_i, index_frame_j 11 2\n",
      "index_frame_i, index_frame_j 12 2\n",
      "index_frame_i, index_frame_j 13 2\n",
      "index_frame_i, index_frame_j 14 2\n",
      "index_frame_i, index_frame_j 15 2\n",
      "index_frame_i, index_frame_j 16 2\n",
      "index_frame_i, index_frame_j 17 2\n",
      "index_frame_i, index_frame_j 18 2\n",
      "index_frame_i, index_frame_j 19 2\n",
      "index_frame_i, index_frame_j 4 3\n",
      "index_frame_i, index_frame_j 5 3\n",
      "index_frame_i, index_frame_j 6 3\n",
      "index_frame_i, index_frame_j 7 3\n",
      "index_frame_i, index_frame_j 8 3\n",
      "index_frame_i, index_frame_j 9 3\n",
      "index_frame_i, index_frame_j 10 3\n",
      "index_frame_i, index_frame_j 11 3\n",
      "index_frame_i, index_frame_j 12 3\n",
      "index_frame_i, index_frame_j 13 3\n",
      "index_frame_i, index_frame_j 14 3\n",
      "index_frame_i, index_frame_j 15 3\n",
      "index_frame_i, index_frame_j 16 3\n",
      "index_frame_i, index_frame_j 17 3\n",
      "index_frame_i, index_frame_j 18 3\n",
      "index_frame_i, index_frame_j 19 3\n",
      "index_frame_i, index_frame_j 5 4\n",
      "index_frame_i, index_frame_j 6 4\n",
      "index_frame_i, index_frame_j 7 4\n",
      "index_frame_i, index_frame_j 8 4\n",
      "index_frame_i, index_frame_j 9 4\n",
      "index_frame_i, index_frame_j 10 4\n",
      "index_frame_i, index_frame_j 11 4\n",
      "index_frame_i, index_frame_j 12 4\n",
      "index_frame_i, index_frame_j 13 4\n",
      "index_frame_i, index_frame_j 14 4\n",
      "index_frame_i, index_frame_j 15 4\n",
      "index_frame_i, index_frame_j 16 4\n",
      "index_frame_i, index_frame_j 17 4\n",
      "index_frame_i, index_frame_j 18 4\n",
      "index_frame_i, index_frame_j 19 4\n",
      "index_frame_i, index_frame_j 6 5\n",
      "index_frame_i, index_frame_j 7 5\n",
      "index_frame_i, index_frame_j 8 5\n",
      "index_frame_i, index_frame_j 9 5\n",
      "index_frame_i, index_frame_j 10 5\n",
      "index_frame_i, index_frame_j 11 5\n",
      "index_frame_i, index_frame_j 12 5\n",
      "index_frame_i, index_frame_j 13 5\n",
      "index_frame_i, index_frame_j 14 5\n",
      "index_frame_i, index_frame_j 15 5\n",
      "index_frame_i, index_frame_j 16 5\n",
      "index_frame_i, index_frame_j 17 5\n",
      "index_frame_i, index_frame_j 18 5\n",
      "index_frame_i, index_frame_j 19 5\n",
      "index_frame_i, index_frame_j 7 6\n",
      "index_frame_i, index_frame_j 8 6\n",
      "index_frame_i, index_frame_j 9 6\n",
      "index_frame_i, index_frame_j 10 6\n",
      "index_frame_i, index_frame_j 11 6\n",
      "index_frame_i, index_frame_j 12 6\n",
      "index_frame_i, index_frame_j 13 6\n",
      "index_frame_i, index_frame_j 14 6\n",
      "index_frame_i, index_frame_j 15 6\n",
      "index_frame_i, index_frame_j 16 6\n",
      "index_frame_i, index_frame_j 17 6\n",
      "index_frame_i, index_frame_j 18 6\n",
      "index_frame_i, index_frame_j 19 6\n",
      "index_frame_i, index_frame_j 8 7\n",
      "index_frame_i, index_frame_j 9 7\n",
      "index_frame_i, index_frame_j 10 7\n",
      "index_frame_i, index_frame_j 11 7\n",
      "index_frame_i, index_frame_j 12 7\n",
      "index_frame_i, index_frame_j 13 7\n",
      "index_frame_i, index_frame_j 14 7\n",
      "index_frame_i, index_frame_j 15 7\n",
      "index_frame_i, index_frame_j 16 7\n",
      "index_frame_i, index_frame_j 17 7\n",
      "index_frame_i, index_frame_j 18 7\n",
      "index_frame_i, index_frame_j 19 7\n",
      "index_frame_i, index_frame_j 9 8\n",
      "index_frame_i, index_frame_j 10 8\n",
      "index_frame_i, index_frame_j 11 8\n",
      "index_frame_i, index_frame_j 12 8\n",
      "index_frame_i, index_frame_j 13 8\n",
      "index_frame_i, index_frame_j 14 8\n",
      "index_frame_i, index_frame_j 15 8\n",
      "index_frame_i, index_frame_j 16 8\n",
      "index_frame_i, index_frame_j 17 8\n",
      "index_frame_i, index_frame_j 18 8\n",
      "index_frame_i, index_frame_j 19 8\n",
      "index_frame_i, index_frame_j 10 9\n",
      "index_frame_i, index_frame_j 11 9\n",
      "index_frame_i, index_frame_j 12 9\n",
      "index_frame_i, index_frame_j 13 9\n",
      "index_frame_i, index_frame_j 14 9\n",
      "index_frame_i, index_frame_j 15 9\n",
      "index_frame_i, index_frame_j 16 9\n",
      "index_frame_i, index_frame_j 17 9\n",
      "index_frame_i, index_frame_j 18 9\n",
      "index_frame_i, index_frame_j 19 9\n",
      "index_frame_i, index_frame_j 11 10\n",
      "index_frame_i, index_frame_j 12 10\n",
      "index_frame_i, index_frame_j 13 10\n",
      "index_frame_i, index_frame_j 14 10\n",
      "index_frame_i, index_frame_j 15 10\n",
      "index_frame_i, index_frame_j 16 10\n",
      "index_frame_i, index_frame_j 17 10\n",
      "index_frame_i, index_frame_j 18 10\n",
      "index_frame_i, index_frame_j 19 10\n",
      "index_frame_i, index_frame_j 12 11\n",
      "index_frame_i, index_frame_j 13 11\n",
      "index_frame_i, index_frame_j 14 11\n",
      "index_frame_i, index_frame_j 15 11\n",
      "index_frame_i, index_frame_j 16 11\n",
      "index_frame_i, index_frame_j 17 11\n",
      "index_frame_i, index_frame_j 18 11\n",
      "index_frame_i, index_frame_j 19 11\n",
      "index_frame_i, index_frame_j 13 12\n",
      "index_frame_i, index_frame_j 14 12\n",
      "index_frame_i, index_frame_j 15 12\n",
      "index_frame_i, index_frame_j 16 12\n",
      "index_frame_i, index_frame_j 17 12\n",
      "index_frame_i, index_frame_j 18 12\n",
      "index_frame_i, index_frame_j 19 12\n",
      "index_frame_i, index_frame_j 14 13\n",
      "index_frame_i, index_frame_j 15 13\n",
      "index_frame_i, index_frame_j 16 13\n",
      "index_frame_i, index_frame_j 17 13\n",
      "index_frame_i, index_frame_j 18 13\n",
      "index_frame_i, index_frame_j 19 13\n",
      "index_frame_i, index_frame_j 15 14\n",
      "index_frame_i, index_frame_j 16 14\n",
      "index_frame_i, index_frame_j 17 14\n",
      "index_frame_i, index_frame_j 18 14\n",
      "index_frame_i, index_frame_j 19 14\n",
      "index_frame_i, index_frame_j 16 15\n",
      "index_frame_i, index_frame_j 17 15\n",
      "index_frame_i, index_frame_j 18 15\n",
      "index_frame_i, index_frame_j 19 15\n",
      "index_frame_i, index_frame_j 17 16\n",
      "index_frame_i, index_frame_j 18 16\n",
      "index_frame_i, index_frame_j 19 16\n",
      "index_frame_i, index_frame_j 18 17\n",
      "index_frame_i, index_frame_j 19 17\n",
      "index_frame_i, index_frame_j 19 18\n"
     ]
    }
   ],
   "source": [
    "from src.matching_features import *\n",
    "from src.homography import *\n",
    "from src.ransac import *\n",
    "from src.view_homography import *\n",
    "from compute_transform import *\n",
    "\n",
    "def create_sequential_homographies(matches, sift_points):\n",
    "    \"\"\" This function creates the homographies from frame n+1 to frame n.\n",
    "        We want the homography from frame n+1 to frame n because we will \n",
    "        want the homography from any frame back to the frame 1 and then to the map.\"\"\"\n",
    "    H_sequential=np.empty([11,0])\n",
    "    for i in range(len(matches)):\n",
    "        kp_dst = sift_points[i][:2,:] #keyupoints for frame n (destination)\n",
    "        kp_src= sift_points[i+1][:2,:] #keypoints for frame n+1 (origin)\n",
    "        src_pts = [] #[[x1,y1, d1, ..., dn], [x1,y1, d1, ..., dn], ...]\n",
    "        dst_pts = []\n",
    "        for k in matches[i][0,:]:\n",
    "            src_pts.append(  (float(kp_src[0,int(k)])   , float(kp_src[1,int(k)]))   )\n",
    "        for k in matches[i][1,:]:\n",
    "            dst_pts.append(  (float(kp_dst[0,int(k)])   , float(kp_dst[1,int(k)]))   )\n",
    "\n",
    "        H_parameters, inliers = RANSAC(src_pts, dst_pts, 72, 0.8) #71.36 iterations to 0.99 suceess-> for 50% inliers\n",
    "        indexes_frames = np.array([[i+1], [i+2]])\n",
    "        H = np.vstack((indexes_frames, H_parameters.reshape(9,1) ))\n",
    "        H_sequential = np.hstack([H_sequential, H])\n",
    "        \n",
    "    return H_sequential\n",
    "\n",
    "video_path, type_homography, file_name_keypoints, file_name_tranformation, width, height = final_parsing_compute_transform(config_data)\n",
    "H_frame1_to_map =compute_homography(match_img1, match_map)    \n",
    "match = matching_features_SCIKITLEARN(sift_points)\n",
    "H_sequential = create_sequential_homographies(match, sift_points)\n",
    "if type_homography =='map':\n",
    "    H_output = homography_to_map(H_sequential, H_frame1_to_map)\n",
    "elif type_homography =='all':\n",
    "    H_output = all_homographies(H_sequential)\n",
    "    \n",
    "H_output = recalculate_homographies_if_intersection(H_output, int(height), int(width), sift_points, match)"
   ]
  },
  {
   "cell_type": "markdown",
   "metadata": {},
   "source": [
    "Output of compute_transform.py:"
   ]
  },
  {
   "cell_type": "code",
   "execution_count": 8,
   "metadata": {},
   "outputs": [],
   "source": [
    "from src.outputs import create_output\n",
    "i = create_output(H_output, file_name_tranformations)        \n",
    "\n"
   ]
  },
  {
   "cell_type": "markdown",
   "metadata": {},
   "source": [
    "**Display results:**"
   ]
  },
  {
   "cell_type": "code",
   "execution_count": 5,
   "metadata": {},
   "outputs": [],
   "source": [
    "def show_pixel_coordinates(event, x, y, flags, param):\n",
    "    if event == cv2.EVENT_LBUTTONDOWN:\n",
    "        print(f\"Clicked at (x={x}, y={y})\")\n",
    "\n",
    "def display_frame(name,frame):\n",
    "    cv2.namedWindow(name)\n",
    "    cv2.setMouseCallback(name, show_pixel_coordinates)\n",
    "    cv2.imshow(name, frame)\n",
    "\n",
    "def display(frame1, frame2,homography_de2_para1 , idx1, idx2 ):\n",
    "    H= homography_de2_para1.reshape((3,3))\n",
    "    \n",
    "    height, width = frame2.shape[:2]\n",
    "    # Apply homography to frame 2\n",
    "    warped_frame2 = cv2.warpPerspective(frame2, H, (width, height))\n",
    "\n",
    "    while True:\n",
    "        display_frame(f'Frame {idx1}', frame1)\n",
    "\n",
    "        display_frame(f'Frame{ idx2} transformed with homography to coordinates of frame {idx1}', warped_frame2)\n",
    "\n",
    "        display_frame(f\"Frame {idx2}\", frame2)\n",
    "\n",
    "        if cv2.waitKey(1) & 0xFF == ord('q'):\n",
    "            break\n",
    "        elif cv2.waitKey(1) & 0xFF == ord('e'):\n",
    "            return True\n",
    "    cv2.destroyAllWindows()\n",
    "    return False\n",
    "\n",
    "def extract__frames(video_path):\n",
    "    \"\"\"Extracts the features from the video and stores them in a list\"\"\"\n",
    "    print(video_path)\n",
    "    capture = cv2.VideoCapture(os.path.abspath(video_path))\n",
    "    k = 0\n",
    "    frames=[]\n",
    "    count_frames(video_path)\n",
    "    while k <= 1900:\n",
    "        capture.set(cv2.CAP_PROP_POS_FRAMES, k)\n",
    "        success, frame = capture.read() #read the video\n",
    "        if success:\n",
    "            frames.append(frame)\n",
    "        k += 100\n",
    "    return frames"
   ]
  },
  {
   "cell_type": "code",
   "execution_count": 6,
   "metadata": {},
   "outputs": [
    {
     "name": "stdout",
     "output_type": "stream",
     "text": [
      "video/trymefirst_lisbon.mp4\n",
      "Total frames of the video:  1901\n"
     ]
    }
   ],
   "source": [
    "\n",
    "frames= extract__frames('video/trymefirst_lisbon.mp4')"
   ]
  },
  {
   "cell_type": "code",
   "execution_count": 7,
   "metadata": {},
   "outputs": [
    {
     "name": "stdout",
     "output_type": "stream",
     "text": [
      "Press q to change image\n",
      "Press e to exit\n",
      "Clicked at (x=386, y=151)\n",
      "Clicked at (x=238, y=109)\n",
      "Clicked at (x=522, y=152)\n",
      "Clicked at (x=611, y=267)\n",
      "Clicked at (x=479, y=228)\n",
      "Clicked at (x=657, y=402)\n",
      "Clicked at (x=660, y=194)\n",
      "Clicked at (x=490, y=79)\n",
      "Clicked at (x=475, y=143)\n",
      "Clicked at (x=446, y=134)\n"
     ]
    }
   ],
   "source": [
    "#to test homography to map\n",
    "img1=frames[0]\n",
    "idx1 = 0\n",
    "print('Press q to change image\\nPress e to exit')\n",
    "\n",
    "for i in range(1,len(frames)-1):\n",
    "    idx2 = i \n",
    "    img2= frames[i]\n",
    "    exit_bool = display(img1, img2, Htoframe1[2:,i], idx1, idx2 )\n",
    "    if exit_bool:\n",
    "        cv2.destroyAllWindows()\n",
    "        break"
   ]
  },
  {
   "cell_type": "code",
   "execution_count": 10,
   "metadata": {},
   "outputs": [
    {
     "name": "stdout",
     "output_type": "stream",
     "text": [
      "Press q to change image\n",
      "Press e to exit\n",
      "Clicked at (x=327, y=103)\n",
      "Clicked at (x=526, y=235)\n",
      "Clicked at (x=425, y=108)\n",
      "Clicked at (x=499, y=227)\n",
      "Clicked at (x=342, y=80)\n",
      "Clicked at (x=222, y=161)\n",
      "Clicked at (x=301, y=122)\n",
      "Clicked at (x=149, y=104)\n",
      "Clicked at (x=114, y=109)\n",
      "Clicked at (x=106, y=75)\n"
     ]
    }
   ],
   "source": [
    "#to test homography to each other\n",
    "print('Press q to change image\\nPress e to exit')\n",
    "#H_output = all_homographies(H_sequential)\n",
    "\n",
    "for i in range(H_output.shape[1]):\n",
    "    idx1= int(H_output[0,i])\n",
    "    idx2= int(H_output[1,i])\n",
    "\n",
    "    img1 = frames[ idx1-1 ] \n",
    "    img2= frames[  idx2-1]\n",
    "    exit_bool = display(img1, img2, H_output[2:,i], idx1, idx2 )\n",
    "    if exit_bool:\n",
    "        cv2.destroyAllWindows()\n",
    "        break"
   ]
  },
  {
   "cell_type": "code",
   "execution_count": null,
   "metadata": {},
   "outputs": [],
   "source": []
  }
 ],
 "metadata": {
  "kernelspec": {
   "display_name": "Python 3",
   "language": "python",
   "name": "python3"
  },
  "language_info": {
   "codemirror_mode": {
    "name": "ipython",
    "version": 3
   },
   "file_extension": ".py",
   "mimetype": "text/x-python",
   "name": "python",
   "nbconvert_exporter": "python",
   "pygments_lexer": "ipython3",
   "version": "3.9.13"
  }
 },
 "nbformat": 4,
 "nbformat_minor": 2
}
