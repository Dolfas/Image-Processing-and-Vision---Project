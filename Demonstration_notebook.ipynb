{
 "cells": [
  {
   "cell_type": "code",
   "execution_count": 2,
   "metadata": {},
   "outputs": [],
   "source": [
    "from numpy.linalg import eig\n",
    "import numpy as np\n",
    "import cv2\n",
    "import os\n",
    "import sys\n",
    "import pickle"
   ]
  },
  {
   "cell_type": "code",
   "execution_count": 3,
   "metadata": {},
   "outputs": [],
   "source": [
    "configuration_file = 'config/part_1.cfg'"
   ]
  },
  {
   "cell_type": "markdown",
   "metadata": {},
   "source": [
    "**Main: process_video.py**"
   ]
  },
  {
   "cell_type": "code",
   "execution_count": 4,
   "metadata": {},
   "outputs": [
    {
     "name": "stdout",
     "output_type": "stream",
     "text": [
      "image matches:  [('225', '131'), ('580', '120'), ('626', '305'), ('133', '303')]\n",
      "map matches:  [('225', '131'), ('580', '120'), ('626', '305'), ('133', '303')] \n",
      "\n",
      "video/trymefirst_lisbon.mp4\n",
      "Total frames of the video:  1901\n",
      "(Nº features, Nº descriptors per feature):  (5000, 128)\n",
      "Nº of frames extracted:  20\n"
     ]
    }
   ],
   "source": [
    "from src.extract_features import *\n",
    "from src.parsing import *\n",
    "from src.display_video import *\n",
    "\n",
    "config_data = parse_configuration_file(configuration_file)     #sys.argv[1]) #Parse the configuration file\n",
    "match_img1 , match_map = parse_points(config_data) #Parse the points from the configuration file\n",
    "video_path = config_data[0].split(' ')[1].strip() #Get the video path\n",
    "sift_points, img1, img2 = extract_features(video_path)\n"
   ]
  },
  {
   "cell_type": "markdown",
   "metadata": {},
   "source": [
    "Output of process_video.py:"
   ]
  },
  {
   "cell_type": "code",
   "execution_count": null,
   "metadata": {},
   "outputs": [],
   "source": [
    "from src.outputs import *\n",
    "create_output_keypoints(sift_points, 'outputs/keypoints.ext')\n"
   ]
  },
  {
   "cell_type": "code",
   "execution_count": 37,
   "metadata": {},
   "outputs": [],
   "source": [
    "type_homography = 'all'"
   ]
  },
  {
   "cell_type": "markdown",
   "metadata": {},
   "source": [
    "**Main: compute_transform.py**"
   ]
  },
  {
   "cell_type": "code",
   "execution_count": null,
   "metadata": {},
   "outputs": [],
   "source": [
    "from src.matching_features import *\n",
    "from src.homography import *\n",
    "from src.ransac import *\n",
    "from src.view_homography import *\n",
    "from main import *\n",
    "\n",
    "H_frame1_to_map =compute_homography(match_img1, match_map)    \n",
    "match = matching_features_SCIKITLEARN(sift_points)\n",
    "H_sequential = create_sequential_homographies(match, sift_points)\n",
    "if type_homography =='map':\n",
    "    H_output = homography_to_map(H_sequential, H_frame1_to_map)\n",
    "elif type_homography =='all':\n",
    "    H_output = all_homographies(H_sequential)\n",
    "\n"
   ]
  },
  {
   "cell_type": "markdown",
   "metadata": {},
   "source": [
    "Output of compute_transform.py:"
   ]
  },
  {
   "cell_type": "code",
   "execution_count": null,
   "metadata": {},
   "outputs": [],
   "source": [
    "from src.outputs import *\n",
    "create_output(H_output, 'outputs/transformations.ext')        \n"
   ]
  },
  {
   "cell_type": "markdown",
   "metadata": {},
   "source": [
    "**Display results:**"
   ]
  },
  {
   "cell_type": "code",
   "execution_count": null,
   "metadata": {},
   "outputs": [],
   "source": [
    "def show_pixel_coordinates(event, x, y, flags, param):\n",
    "    if event == cv2.EVENT_LBUTTONDOWN:\n",
    "        print(f\"Clicked at (x={x}, y={y})\")\n",
    "\n",
    "def display_frame(name,frame):\n",
    "    cv2.namedWindow(name)\n",
    "    cv2.setMouseCallback(name, show_pixel_coordinates)\n",
    "    cv2.imshow(name, frame)\n",
    "\n",
    "def display(frame1, frame2,homography_de2_para1 ):\n",
    "    H= homography_de2_para1.reshape((3,3))\n",
    "    \n",
    "    height, width = frame2.shape[:2]\n",
    "    # Apply homography to frame 2\n",
    "    warped_frame2 = cv2.warpPerspective(frame2, H, (width, height))\n",
    "\n",
    "    while True:\n",
    "        display_frame('Frame 1', frame1)\n",
    "\n",
    "        display_frame('Frame 2 with homography applied to frame 1 coordinates', warped_frame2)\n",
    "\n",
    "        display_frame(\"Frame 2\", frame2)\n",
    "\n",
    "        if cv2.waitKey(1) & 0xFF == ord('q'):\n",
    "            break\n",
    "    cv2.destroyAllWindows()\n",
    "\n",
    "def extract__frames(video_path):\n",
    "    \"\"\"Extracts the features from the video and stores them in a list\"\"\"\n",
    "    print(video_path)\n",
    "    capture = cv2.VideoCapture(os.path.abspath(video_path))\n",
    "    k = 0\n",
    "    frames=[]\n",
    "    count_frames(video_path)\n",
    "    while k <= 1900:\n",
    "        capture.set(cv2.CAP_PROP_POS_FRAMES, k)\n",
    "        success, frame = capture.read() #read the video\n",
    "        if success:\n",
    "            frames.append(frame)\n",
    "        k += 100\n",
    "    return frames"
   ]
  },
  {
   "cell_type": "code",
   "execution_count": null,
   "metadata": {},
   "outputs": [],
   "source": [
    "frames= extract__frames('video/trymefirst_lisbon.mp4')"
   ]
  },
  {
   "cell_type": "code",
   "execution_count": null,
   "metadata": {},
   "outputs": [],
   "source": [
    "#to test homography\n",
    "img1=frames[0]\n",
    "for i in range(1,len(frames)-1):\n",
    "    img2= frames[i]\n",
    "    display(img1, img2, H_output[2:,i] )"
   ]
  }
 ],
 "metadata": {
  "kernelspec": {
   "display_name": "Python 3",
   "language": "python",
   "name": "python3"
  },
  "language_info": {
   "codemirror_mode": {
    "name": "ipython",
    "version": 3
   },
   "file_extension": ".py",
   "mimetype": "text/x-python",
   "name": "python",
   "nbconvert_exporter": "python",
   "pygments_lexer": "ipython3",
   "version": "3.9.13"
  }
 },
 "nbformat": 4,
 "nbformat_minor": 2
}
