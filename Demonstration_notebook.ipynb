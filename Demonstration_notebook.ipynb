{
 "cells": [
  {
   "cell_type": "code",
   "execution_count": 1,
   "metadata": {},
   "outputs": [],
   "source": [
    "from numpy.linalg import eig\n",
    "import numpy as np\n",
    "import cv2\n",
    "import os\n",
    "import sys\n",
    "import pickle"
   ]
  },
  {
   "cell_type": "code",
   "execution_count": 2,
   "metadata": {},
   "outputs": [],
   "source": [
    "configuration_file = 'config/part_1.cfg'"
   ]
  },
  {
   "cell_type": "markdown",
   "metadata": {},
   "source": [
    "**Main: process_video.py**"
   ]
  },
  {
   "cell_type": "code",
   "execution_count": 11,
   "metadata": {},
   "outputs": [
    {
     "name": "stdout",
     "output_type": "stream",
     "text": [
      "image matches:  [('225', '131'), ('580', '120'), ('626', '305'), ('133', '303')]\n",
      "map matches:  [('225', '131'), ('580', '120'), ('626', '305'), ('133', '303')] \n",
      "\n",
      "Total frames of the video:  1901\n",
      "(Nº features, Nº descriptors per feature):  (5000, 128)\n",
      "Nº of frames extracted:  20\n"
     ]
    }
   ],
   "source": [
    "from src.extract_features import *\n",
    "from src.parsing import *\n",
    "from src.display_video import *\n",
    "from main import *\n",
    "\n",
    "def final_parsing(config_data):\n",
    "    video_path = config_data[0].split(' ')[1].strip() #Get the video path\n",
    "    type_homography = config_data[4].split(' ')[3] #Get the type of homography\n",
    "    file_name_keypoints = \"outputs/\" + config_data[3].split(' ')[1] #Get the name of the keypoints file\n",
    "    file_name_tranformations = \"outputs/\" + config_data[5].split(' ')[1] #Get the name of the transformations file\n",
    "    return video_path, type_homography, file_name_keypoints, file_name_tranformations\n",
    "   \n",
    "config_data = parse_configuration_file(configuration_file)     #sys.argv[1]) #Parse the configuration file\n",
    "match_img1 , match_map = parse_points(config_data) #Parse the points from the configuration file\n",
    "video_path, type_homography, file_name_keypoints, file_name_tranformations = final_parsing(config_data)\n",
    "\n",
    "sift_points, nr_points = extract_features(video_path)\n"
   ]
  },
  {
   "cell_type": "markdown",
   "metadata": {},
   "source": [
    "Output of process_video.py:"
   ]
  },
  {
   "cell_type": "code",
   "execution_count": 12,
   "metadata": {},
   "outputs": [],
   "source": [
    "from src.outputs import *\n",
    "create_output_keypoints(sift_points, file_name_keypoints, nr_points) #teste\n"
   ]
  },
  {
   "cell_type": "markdown",
   "metadata": {},
   "source": [
    "**Main: compute_transform.py**"
   ]
  },
  {
   "cell_type": "code",
   "execution_count": 14,
   "metadata": {},
   "outputs": [],
   "source": [
    "from src.matching_features import *\n",
    "from src.homography import *\n",
    "from src.ransac import *\n",
    "from src.view_homography import *\n",
    "from main import *\n",
    "\n",
    "def create_sequential_homographies(matches, sift_points):\n",
    "    \"\"\" This function creates the homographies from frame n+1 to frame n.\n",
    "        We want the homography from frame n+1 to frame n because we will \n",
    "        want the homography from any frame back to the frame 1 and then to the map.\"\"\"\n",
    "    H_sequential=np.empty([11,0])\n",
    "    for i in range(len(matches)):\n",
    "        kp_dst = sift_points[i][:2,:] #keyupoints for frame n (destination)\n",
    "        kp_src= sift_points[i+1][:2,:] #keypoints for frame n+1 (origin)\n",
    "        src_pts = [] #[[x1,y1, d1, ..., dn], [x1,y1, d1, ..., dn], ...]\n",
    "        dst_pts = []\n",
    "        for k in matches[i][0,:]:\n",
    "            src_pts.append(  (float(kp_src[0,int(k)])   , float(kp_src[1,int(k)]))   )\n",
    "        for k in matches[i][1,:]:\n",
    "            dst_pts.append(  (float(kp_dst[0,int(k)])   , float(kp_dst[1,int(k)]))   )\n",
    "\n",
    "        H_parameters, inliers = RANSAC(src_pts, dst_pts, 72, 0.8) #71.36 iterations to 0.99 suceess-> for 50% inliers\n",
    "        indexes_frames = np.array([[i+1], [i+2]])\n",
    "        H = np.vstack((indexes_frames, H_parameters.reshape(9,1) ))\n",
    "        H_sequential = np.hstack([H_sequential, H])\n",
    "        \n",
    "    return H_sequential\n",
    "\n",
    "H_frame1_to_map =compute_homography(match_img1, match_map)    \n",
    "match = matching_features_SCIKITLEARN(sift_points)\n",
    "H_sequential = create_sequential_homographies(match, sift_points)\n",
    "if type_homography =='map':\n",
    "    H_output = homography_to_map(H_sequential, H_frame1_to_map)\n",
    "elif type_homography =='all':\n",
    "    H_output = all_homographies(H_sequential)\n",
    "\n"
   ]
  },
  {
   "cell_type": "markdown",
   "metadata": {},
   "source": [
    "Output of compute_transform.py:"
   ]
  },
  {
   "cell_type": "code",
   "execution_count": 15,
   "metadata": {},
   "outputs": [],
   "source": [
    "from src.outputs import create_output\n",
    "i = create_output(H_output, file_name_tranformations)        \n",
    "\n"
   ]
  },
  {
   "cell_type": "markdown",
   "metadata": {},
   "source": [
    "**Display results:**"
   ]
  },
  {
   "cell_type": "code",
   "execution_count": 16,
   "metadata": {},
   "outputs": [],
   "source": [
    "def show_pixel_coordinates(event, x, y, flags, param):\n",
    "    if event == cv2.EVENT_LBUTTONDOWN:\n",
    "        print(f\"Clicked at (x={x}, y={y})\")\n",
    "\n",
    "def display_frame(name,frame):\n",
    "    cv2.namedWindow(name)\n",
    "    cv2.setMouseCallback(name, show_pixel_coordinates)\n",
    "    cv2.imshow(name, frame)\n",
    "\n",
    "def display(frame1, frame2,homography_de2_para1 , idx1, idx2 ):\n",
    "    H= homography_de2_para1.reshape((3,3))\n",
    "    \n",
    "    height, width = frame2.shape[:2]\n",
    "    # Apply homography to frame 2\n",
    "    warped_frame2 = cv2.warpPerspective(frame2, H, (width, height))\n",
    "\n",
    "    while True:\n",
    "        display_frame(f'Frame {idx1}', frame1)\n",
    "\n",
    "        display_frame(f'Frame{ idx2} transformed with homography to coordinates of frame {idx1}', warped_frame2)\n",
    "\n",
    "        display_frame(f\"Frame {idx2}\", frame2)\n",
    "\n",
    "        if cv2.waitKey(1) & 0xFF == ord('q'):\n",
    "            break\n",
    "        elif cv2.waitKey(1) & 0xFF == ord('e'):\n",
    "            return True\n",
    "    cv2.destroyAllWindows()\n",
    "    return False\n",
    "\n",
    "def extract__frames(video_path):\n",
    "    \"\"\"Extracts the features from the video and stores them in a list\"\"\"\n",
    "    print(video_path)\n",
    "    capture = cv2.VideoCapture(os.path.abspath(video_path))\n",
    "    k = 0\n",
    "    frames=[]\n",
    "    count_frames(video_path)\n",
    "    while k <= 1900:\n",
    "        capture.set(cv2.CAP_PROP_POS_FRAMES, k)\n",
    "        success, frame = capture.read() #read the video\n",
    "        if success:\n",
    "            frames.append(frame)\n",
    "        k += 100\n",
    "    return frames"
   ]
  },
  {
   "cell_type": "code",
   "execution_count": 17,
   "metadata": {},
   "outputs": [
    {
     "name": "stdout",
     "output_type": "stream",
     "text": [
      "video/trymefirst_lisbon.mp4\n",
      "Total frames of the video:  1901\n"
     ]
    }
   ],
   "source": [
    "frames= extract__frames('video/trymefirst_lisbon.mp4')"
   ]
  },
  {
   "cell_type": "code",
   "execution_count": 19,
   "metadata": {},
   "outputs": [
    {
     "name": "stdout",
     "output_type": "stream",
     "text": [
      "Press q to change image\n",
      "Press e to exit\n",
      "Clicked at (x=569, y=201)\n",
      "Clicked at (x=493, y=137)\n",
      "Clicked at (x=492, y=136)\n"
     ]
    }
   ],
   "source": [
    "#to test homography to map\n",
    "img1=frames[0]\n",
    "idx1 = 0\n",
    "print('Press q to change image\\nPress e to exit')\n",
    "\n",
    "for i in range(1,len(frames)-1):\n",
    "    idx2 = i \n",
    "    img2= frames[i]\n",
    "    exit_bool = display(img1, img2, H_output[2:,i], idx1, idx2 )\n",
    "    if exit_bool:\n",
    "        cv2.destroyAllWindows()\n",
    "        break"
   ]
  },
  {
   "cell_type": "code",
   "execution_count": 20,
   "metadata": {},
   "outputs": [
    {
     "name": "stdout",
     "output_type": "stream",
     "text": [
      "Press q to change image\n",
      "Press e to exit\n",
      "Clicked at (x=379, y=130)\n",
      "Clicked at (x=556, y=152)\n",
      "Clicked at (x=424, y=154)\n",
      "Clicked at (x=376, y=173)\n",
      "Clicked at (x=542, y=103)\n"
     ]
    }
   ],
   "source": [
    "#to test homography to each other\n",
    "print('Press q to change image\\nPress e to exit')\n",
    "H_output = all_homographies(H_sequential)\n",
    "\n",
    "for i in range(H_output.shape[1]):\n",
    "    idx1= int(H_output[0,i])\n",
    "    idx2= int(H_output[1,i])\n",
    "\n",
    "    img1 = frames[ idx1-1 ] \n",
    "    img2= frames[  idx2-1]\n",
    "    exit_bool = display(img1, img2, H_output[2:,i], idx1, idx2 )\n",
    "    if exit_bool:\n",
    "        cv2.destroyAllWindows()\n",
    "        break"
   ]
  },
  {
   "cell_type": "code",
   "execution_count": null,
   "metadata": {},
   "outputs": [],
   "source": []
  }
 ],
 "metadata": {
  "kernelspec": {
   "display_name": "Python 3",
   "language": "python",
   "name": "python3"
  },
  "language_info": {
   "codemirror_mode": {
    "name": "ipython",
    "version": 3
   },
   "file_extension": ".py",
   "mimetype": "text/x-python",
   "name": "python",
   "nbconvert_exporter": "python",
   "pygments_lexer": "ipython3",
   "version": "3.10.12"
  }
 },
 "nbformat": 4,
 "nbformat_minor": 2
}
